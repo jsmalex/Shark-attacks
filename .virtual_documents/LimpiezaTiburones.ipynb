from IPython.core.display import HTML
HTML('''
<style>
    /* Fondo de la página */
    body, .jp-Notebook {
        background-image: url('https://media.istockphoto.com/id/1167845870/es/foto/mar-caribe.jpg?s=612x612&w=0&k=20&c=rWUuq7v_t5d03-9FWY6Zgw28dNGt8CfNTx0Y6zhaQwA='); /* Fondo de océano */
        background-size: cover;
        background-attachment: fixed;
        background-repeat: no-repeat;
        color: #ffffff; /* Texto en blanco para contraste */
        font-family: Arial, sans-serif;
    }

    /* Estilos para el título principal */
    h1 {
        font-size: 2.5em;
        color: #ffeb3b; /* Amarillo claro */
        text-align: center;
        margin-top: 20px;
        padding: 15px;
        background: rgba(13, 71, 161, 0.8); /* Fondo azul oscuro semitransparente */
        border-radius: 10px;
        box-shadow: 0px 4px 10px rgba(0, 0, 0, 0.3);
    }

    /* Estilos para los subtítulos y encabezados */
    h2 {
        font-size: 2em;
        text-align: center;
        color: #ffffff; /* Blanco */
        border-bottom: 2px solid #0288d1;
        padding-bottom: 5px;
        margin-top: 15px;
        background: rgba(13, 71, 161, 0.8); /* Fondo azul oscuro semitransparente */
        padding: 10px;
        border-radius: 8px;
    }
    
    h3 {
        font-size: 1.8em;
        text-align: center;
        color: #ffffff; /* blanco */
        margin-top: 10px;
        padding: 8px;
        background: rgba(2, 136, 209, 0.7);
        border-radius: 6px;
    }

    /* Estilo para párrafos y texto general */
    p {
        font-size: 1.1em;
        line-height: 1.6;
        color: #ffffff;
        margin: 10px 0;
        text-align: justify;
        background: rgba(0, 0, 0, 0.5);
        padding: 10px;
        border-radius: 5px;
    }

    /* Citas o textos destacados */
    blockquote {
        font-size: 1.8em;
        border-left: 5px solid #ffeb3b;
        margin-left: 10px;
        padding-left: 15px;
        font-style: italic;
        color: #ffeb3b;
        background-color: rgba(0, 77, 64, 0.6);
        border-radius: 4px;
        padding: 10px;
    }

    /* Listas */
    ul, ol {
        margin-left: 25px;
        color: #ffffff;
    }

    /* Resaltar datos importantes */
    .highlight {
        background-color: #ffeb3b;
        color: #0d47a1;
        padding: 2px 5px;
        border-radius: 3px;
        font-weight: bold;
    }

    /* Tabla personalizada */
    table {
        width: 100%;
        border-collapse: collapse;
        margin-top: 15px;
        background: rgba(255, 255, 255, 0.9);
        color: #004d40;
    }

    table, th, td {
        border: 1px solid #0288d1; /* Borde azul */
    }

    th {
        background-color: #0288d1;
        color: white;
        padding: 8px;
    }

    td {
        padding: 8px;
        text-align: center;
    }

    /* Botones (si necesitas interactividad) */
    .button {
        background-color: #d32f2f;
        color: white;
        padding: 10px 20px;
        text-align: center;
        border: none;
        border-radius: 5px;
        cursor: pointer;
        font-size: 1em;
        margin-top: 10px;
    }

    .button:hover {
        background-color: #b71c1c; /* Rojo oscuro */
    }
</style>
''')














import pandas as pd
import matplotlib.pyplot as plt
import seaborn as sns
import plotly.express as px
import plotly.graph_objects as go
import numpy as np





try:
    df = pd.read_csv("Shark_attacks.csv", encoding="utf-8")
    print("El archivo se leyó con codificación UTF-8.")
except UnicodeDecodeError:
    print("La codificación no es UTF-8. Intentando con ISO-8859-1.")
    try:
        df = pd.read_csv("Shark_attacks.csv", encoding="ISO-8859-1")
        print("El archivo se leyó con codificación ISO-8859-1.")
    except UnicodeDecodeError:
        print("No se pudo leer el archivo. Revisa la codificación.")



df = pd.read_csv('Shark_attacks.csv', encoding='ISO-8859-1', low_memory=False)





print(df.shape)





print(df.info())





valores_unicos = df["Case Number"].unique()
print(len(valores_unicos))








dflimpio = df[["Year","Type","Country","Sex ","Age","Fatal (Y/N)","Date","Activity","Species "]]
dflimpio.info()





# Define a dictionary to map each specific activity to broader categories
activity_groups = {
    'Surfing': 'Water Activity',
    'Swimming': 'Water Activity',
    'Snorkeling': 'Water Activity',
    'Diving': 'Water Activity',
    'Fishing': 'Fishing',
    'Spearfishing': 'Fishing',
    'Boating': 'Boating',
    'Kayaking': 'Boating',
    'Standing': 'Other',  # Adjust according to each unique value in `unique_values`
    # Add more activities as needed based on the unique values
}

# Map the activities to the broader categories and create a new "Category" column
dflimpio['Categoryactivity'] = dflimpio['Activity'].map(activity_groups)

# Fill any NaN values in the "Category" column with "Unknown" or "Other" for unmapped activities
dflimpio['Categoryactivity'] = dflimpio['Categoryactivity'].fillna("Unknown")

print(dflimpio.info())






dflimpio = dflimpio.drop("Activity", axis=1)

dflimpio.info()





import re
def categorize_shark(description):
    # Define common shark types and associated keywords
    keywords = {
        'white': ['WHITE', 'GREAT WHITE'],
        'tiger': ['TIGER'],
        'hammerhead': ['HAMMERHEAD'],
        'thresher': ['THRESHER'],
        'mako': ['MAKO'],
        'bull': ['BULL'],
        'lemon': ['LEMON'],
        'whitetip': ['WHITE TIP', 'WHITETIP'],
        'blacktip': ['BLACK TIP', 'BLACKTIP'],
        'blue': ['BLUE'],
        'grey': ['GREY', 'GRAY NURSE', 'GREY NURSE'],
        'nurse': ['NURSE'],
        'thresher': ['THRESHER'],
        'sevengill': ['7 GILL', 'SEVEN GILL'],
        'porbeagle': ['PORBEAGLE'],
        'hammer': ['HAMMERHEAD']
    }

    # Standardize the text to uppercase for matching
    description = description.upper()

    # Check for each keyword in the description
    for category, terms in keywords.items():
        if any(re.search(term, description) for term in terms):
            return category

    # If no keywords match, label as "unknown"
    return 'unknown'


dflimpio['categoryspecie'] = dflimpio['Species '].fillna('').apply(categorize_shark)


dflimpio.info()





dflimpio = dflimpio.drop("Species ", axis=1)
dflimpio.info()





dflimpio["Activity"] = dflimpio["Categoryactivity"]



dflimpio = dflimpio.drop("Categoryactivity", axis=1)


dflimpio["Specie"] = dflimpio["categoryspecie"]


dflimpio = dflimpio.drop("categoryspecie", axis=1)


dflimpio.info()





dflimpio["Date"] = dflimpio["Date"].str.upper().str.strip()


meses_dict = {
    'JAN': 1.0,
    'FEB': 2.0,
    'MAR': 3.0,
    'APR': 4.0,
    'MAY': 5.0,
    'JUN': 6.0,
    'JUL': 7.0,
    'AUG': 8.0,
    'SEP': 9.0,
    'OCT': 10.0,
    'NOV': 11.0,
    'DEC': 12.0
}

def extract_month(date):
    if not isinstance(date, str) or len(date) < 4:  # Asegurarse de que sea una cadena y tenga longitud mínima
        return None

    parsed_date = pd.to_datetime(date, errors='coerce')
    if pd.notnull(parsed_date):
        return parsed_date.month

    partes = date.split('-')
    if len(partes) > 1:  # Verificar que haya al menos dos partes
        mes_abreviatura = partes[1][0:3]  # TOMAR LOS TRES PRIMEROS CARACTERES DEL MES
        # Buscar el mes en el diccionario y devolver el número correspondiente
        return meses_dict.get(mes_abreviatura, None)

    return None  # Devolver None si no se cumple ninguna condición

dflimpio['Month'] = dflimpio['Date'].apply(extract_month)  # Cambia 'Date' al nombre real de la columna de fechas


dflimpio.info()
dflimpio.head()





df_clear = dflimpio.dropna()
df_clear.info()
df_clear.head()





df_clear['Age'] = pd.to_numeric(df_clear['Age'], errors='coerce')

print(df_clear['Age'])
nulos = df_clear["Age"].isna().sum()
print(nulos)





df_clear = df_clear.dropna(subset=['Age'])





df_clear['Age'] = df_clear['Age'].astype(int)
df_clear.head()
df_clear.info()





valores_unicos = df["Year"].unique()
print(valores_unicos)





df_clear = df_clear[df_clear["Year"]>500]





df_clear['Year'] = df_clear['Year'].astype(int)





df_clear['Year'] = pd.to_datetime(df_clear['Year'], format='%Y', errors='coerce')
df_clear['Year'] = df_clear['Year'].dt.year





df_clear.info()





valores_unicos = df_clear["Type"].unique()
print(valores_unicos)





df_clear['Type'] = df_clear['Type'].astype('category')

df_clear.info()





valores_unicos = df_clear["Country"].unique()
print(valores_unicos)





# Convert all values in the 'Country' column to uppercase and remove leading/trailing whitespace
df_clear['Country'] = df_clear['Country'].str.upper().str.strip()

# Display unique values to confirm the changes
valores_unicos = df_clear['Country'].unique()
print(valores_unicos)

df_clear.info()





df_clear["Sex"] = df_clear["Sex "]

df_clear = df_clear.drop("Sex ", axis=1)
df_clear.info()


valores_unicos = df_clear["Sex"].unique()
print(valores_unicos)





df_clear.loc[df_clear["Sex"]=="M ", "Sex"]= "M"
valores_unicos = df_clear["Sex"].unique()
print(valores_unicos)


cuantos_lli =(df_clear["Sex"] == "lli").sum()
print(cuantos_lli)





mis_lli = df[df["Sex "]=="lli"]
mis_lli





df_clear.loc[df_clear["Sex"]=="lli", "Sex"]= "M"
valores_unicos = df_clear["Sex"].unique()
print(valores_unicos)





df_clear['Sex'] = df_clear['Sex'].astype('category')
df_clear.info()





valores_unicos = df_clear["Fatal (Y/N)"].unique()
print(valores_unicos)





df_clear.loc[df_clear["Fatal (Y/N)"]==" N", "Fatal (Y/N)"]= "N"
valores_unicos = df_clear["Fatal (Y/N)"].unique()
print(valores_unicos)


cuantos_2017 =(df_clear["Fatal (Y/N)"] == "2017").sum()
print(cuantos_2017)

cuantos_uknown =(df_clear["Fatal (Y/N)"] == "UNKNOWN").sum()
print(cuantos_uknown)





indiceseliminar = df_clear[(df_clear["Fatal (Y/N)"] == "2017") | (df_clear["Fatal (Y/N)"] == "UNKNOWN")].index

df_clear = df_clear.drop(indiceseliminar)


valores_unicos = df_clear["Fatal (Y/N)"].unique()
print(valores_unicos)





df_clear['Fatal (Y/N)'] = df_clear['Fatal (Y/N)'].replace({"Y": True, "N": False})

df_clear.info()





duplicates = df_clear.duplicated().sum()
print(f"\nNumber of duplicate rows: {duplicates}")





df_finish = df_clear.drop_duplicates()

print("\nDuplicates Removed.")
df_finish.info()





df_finish['Specie'] = df_finish['Specie'].astype('category')


df_finish['Activity'] = df_finish['Activity'].astype('category')


df_finish['Month'] = df_finish['Month'].astype('int32')
df_finish.info()





df_finish = df_finish.drop("Date", axis=1)
df_finish.info()


# Save with a custom delimiter and exclude index
df_finish.to_csv('Shark_finish.csv', index=False, header=True)











df = pd.read_csv('Shark_finish.csv', encoding='ISO-8859-1', low_memory=False)





#Temporal Analysis
plt.figure(figsize=(12, 6))
yearly_attacks = df['Year'].value_counts().sort_index()
plt.plot(yearly_attacks.index, yearly_attacks.values)
plt.title('Temporal Trend of Shark Attacks')
plt.xlabel('Year')
plt.ylabel('Number of Attacks')
plt.grid(True)
plt.show()

#Top 10 countries with most attacks
print("\
Top 10 Countries with Most Shark Attacks:")
print(df['Country'].value_counts().head(10))








#Analyze the number of attacks by sex
sex_counts = df['Sex'].value_counts()

#Plotting the data
plt.figure(figsize=(8, 5))
sns.barplot(x=sex_counts.index, y=sex_counts.values)
plt.title('Number of Shark Attacks by Sex')
plt.xlabel('Sex')
plt.ylabel('Number of Attacks')
plt.show()

#Display the counts
print("\
Number of Shark Attacks by Sex:")
print(sex_counts)








#Convert Age to numeric, handling any non-numeric values
df['Age'] = pd.to_numeric(df['Age'], errors='coerce')

#Create age groups
bins = [0, 10, 20, 30, 40, 50, 60, 70, 80, 90, 100]
labels = ['0-10', '11-20', '21-30', '31-40', '41-50', '51-60', '61-70', '71-80', '81-90', '91-100']
df['Age_Group'] = pd.cut(df['Age'], bins=bins, labels=labels)

#Count attacks by age group
age_group_counts = df['Age_Group'].value_counts().sort_index()

#Create the visualization
plt.figure(figsize=(12, 6))
sns.barplot(x=age_group_counts.index, y=age_group_counts.values)
plt.title('Distribution of Shark Attacks by Age Group')
plt.xlabel('Age Group')
plt.ylabel('Number of Attacks')
plt.xticks(rotation=45)
plt.tight_layout()
plt.show()

#Display basic statistics about age
print("\
Age Statistics:")
print(df['Age'].describe())

#Display counts by age group
print("\
Number of Attacks by Age Group:")
print(age_group_counts)








#Get activity counts
activity_counts = df['Activity'].value_counts()

#Create a bar plot
plt.figure(figsize=(12, 6))
sns.barplot(x=activity_counts.values, y=activity_counts.index)
plt.title('Number of Shark Attacks by Activity')
plt.xlabel('Number of Attacks')
plt.ylabel('Activity')
plt.tight_layout()
plt.show()

#Display numerical data
print("\
Number of Attacks by Activity:")
print(activity_counts)

#Calculate percentages
activity_percentages = (activity_counts / len(df) * 100).round(2)
print("\
Percentage of Total Attacks by Activity:")
print(activity_percentages)








#Group by month and count the number of attacks
monthly_attacks = df['Month'].value_counts().sort_index()

#Plot the data
plt.figure(figsize=(12, 6))
monthly_attacks.plot(kind='bar', color='skyblue')
plt.title('Shark Attacks by Month')
plt.xlabel('Month')
plt.ylabel('Number of Attacks')
plt.xticks(rotation=45)
plt.tight_layout()
plt.show()

#Display the monthly attack counts
print("\
Number of Shark Attacks by Month:")
print(monthly_attacks)








#Calculate fatality statistics
total_attacks = len(df)
fatal_attacks = df['Fatal (Y/N)'].sum()
non_fatal_attacks = total_attacks - fatal_attacks
#Create visualization
plt.figure(figsize=(12, 6))
plt.pie([fatal_attacks, non_fatal_attacks], 
        labels=['Fatal', 'Non-Fatal'],
        autopct='%1.1f%%',
        colors=['red', 'lightblue'])
plt.title('Proportion of Fatal vs Non-Fatal Shark Attacks')
plt.show()








#Calculate species-specific fatality rates
species_fatality = df[df['Fatal (Y/N)'] == True].groupby('Specie').size().sort_values(ascending=False)



#Create bar plot for most dangerous species
plt.figure(figsize=(12, 6))
species_fatality.head(10).plot(kind='bar')
plt.title('Number of Fatal Attacks by Shark Species')
plt.xlabel('Species')
plt.ylabel('Number of Fatal Attacks')
plt.xticks(rotation=45)
plt.tight_layout()
plt.show()

#Print statistics
print("\
Fatal Attack Statistics:")
print(f"Total number of attacks: {total_attacks}")
print(f"Number of fatal attacks: {fatal_attacks}")
print(f"Number of non-fatal attacks: {non_fatal_attacks}")
print(f"Fatality rate: {(fatal_attacks/total_attacks)*100:.1f}%")

print("\
Most Deadly Shark Species (Top 10):")
print(species_fatality.head(10))








# Assuming 'df' is your DataFrame with shark attack data

# Sample data if not available
# df = pd.DataFrame({'Country': ['USA', 'AUSTRALIA', 'SOUTH AFRICA', 'USA', 'USA', 'BRAZIL', 'MEXICO', 'FIJI']})

# Create a dictionary to map custom country names in 'df' to standardized names in the 'plotly' dataset
country_mapping = {
    'USA': 'United States',
    'AUSTRALIA': 'Australia',
    'SOUTH AFRICA': 'South Africa',
    'NEW ZEALAND': 'New Zealand',
    'BRAZIL': 'Brazil',
    'MEXICO': 'Mexico',
    'FIJI': 'Fiji',
    'BAHAMAS': 'Bahamas',
    'PAPUA NEW GUINEA': 'Papua New Guinea',
    'REUNION': 'Réunion'  # Adjusted for plotly's naming convention
}

# Map the countries in 'df' to standardized names
df['Country_Mapped'] = df['Country'].map(lambda x: country_mapping.get(x.upper(), x.upper()))

# Create a series of attack counts using standardized country names
attack_counts = df['Country_Mapped'].value_counts()

# Prepare data for plotting by creating a DataFrame with countries and attack counts
attack_df = pd.DataFrame({
    'Country': attack_counts.index,
    'Attack_Counts': attack_counts.values
})

# Plot the map with Plotly's choropleth
fig = px.choropleth(
    attack_df,
    locations='Country',
    locationmode='country names',
    color='Attack_Counts',
    hover_name='Country',
    color_continuous_scale='YlOrRd',
    labels={'Attack_Counts': 'Number of Shark Attacks'},
    title='Global Distribution of Shark Attacks by Country',
    template='plotly_dark'  # Optional: dark theme for better contrast
)

# Add interactive features
fig.update_geos(
    showcoastlines=True,
    coastlinecolor="Black",
    showland=True,
    landcolor="lightgray",
    projection_type='natural earth',  # Better map projection for global data
    showocean=True,
    oceancolor='LightBlue'
)

# Customize hover data
fig.update_traces(
    hovertemplate='<b>%{hovertext}</b><br>Attacks: %{z}'
)

# Add buttons to zoom in on regions, including Africa
fig.update_layout(
    updatemenus=[
        {
            'buttons': [
                {'method': 'relayout', 'label': 'Global', 'args': [{'geo': {'projection.scale': 1}}]},
                {'method': 'relayout', 'label': 'Americas', 'args': [{'geo': {'projection.scale': 3, 'center': {'lat': 10, 'lon': -75}}}]},
                {'method': 'relayout', 'label': 'Europe', 'args': [{'geo': {'projection.scale': 3, 'center': {'lat': 50, 'lon': 10}}}]},
                {'method': 'relayout', 'label': 'Australia', 'args': [{'geo': {'projection.scale': 3, 'center': {'lat': -25, 'lon': 133}}}]},
                {'method': 'relayout', 'label': 'Africa', 'args': [{'geo': {'projection.scale': 3, 'center': {'lat': 0, 'lon': 20}}}]}
            ],
            'direction': 'down',
            'showactive': True
        }
    ],
    autosize=False,
    width=1200,
    height=700
)

# Show the figure
fig.show()

# Display top 10 countries with the most attacks
print("Top 10 Countries with Most Shark Attacks:")
print(attack_counts.head(10))







