import pandas as pd
import matplotlib.pyplot as plt
import seaborn as sns


df = pd.read_csv('Shark_finish.csv', encoding='ISO-8859-1', low_memory=False)




import pandas as pd
import matplotlib.pyplot as plt
import seaborn as sns

# Temporal Analysis
plt.figure(figsize=(12, 6))
yearly_attacks = df['Year'].value_counts().sort_index()
plt.plot(yearly_attacks.index, yearly_attacks.values)
plt.title('Temporal Trend of Shark Attacks')
plt.xlabel('Year')
plt.ylabel('Number of Attacks')
plt.grid(True)
plt.show()

# Top 10 countries with most attacks
print("\
Top 10 Countries with Most Shark Attacks:")
print(df['Country'].value_counts().head(10))


import pandas as pd
import matplotlib.pyplot as plt
import seaborn as sns

# Create a bar plot of top 10 countries
plt.figure(figsize=(12, 6))
country_counts = df['Country'].value_counts().head(10)
sns.barplot(x=country_counts.index, y=country_counts.values)
plt.title('Top 10 Countries with Highest Number of Shark Attacks')
plt.xlabel('Country')
plt.ylabel('Number of Attacks')
plt.xticks(rotation=45)
plt.tight_layout()
plt.show()

# Additional analysis: Type of attacks by top 3 countries
top_3_countries = df['Country'].value_counts().head(3).index
type_by_country = df[df['Country'].isin(top_3_countries)].groupby(['Country', 'Type']).size().unstack()
print("\
Type of Attacks in Top 3 Countries:")
print(type_by_country)

# Activity analysis for top countries
print("\
Most Common Activities During Attacks in Top 3 Countries:")
activities_top_countries = df[df['Country'].isin(top_3_countries)].groupby(['Country', 'Activity']).size().reset_index(name='Count')
for country in top_3_countries:
    print(f"\
{country}:")
    print(activities_top_countries[activities_top_countries['Country'] == country].sort_values('Count', ascending=False).head(3))


# Analyze the number of attacks by sex
sex_counts = df['Sex'].value_counts()

# Plotting the data
plt.figure(figsize=(8, 5))
sns.barplot(x=sex_counts.index, y=sex_counts.values)
plt.title('Number of Shark Attacks by Sex')
plt.xlabel('Sex')
plt.ylabel('Number of Attacks')
plt.show()

# Display the counts
print("\
Number of Shark Attacks by Sex:")
print(sex_counts)


import numpy as np

# Convert Age to numeric, handling any non-numeric values
df['Age'] = pd.to_numeric(df['Age'], errors='coerce')

# Create age groups
bins = [0, 10, 20, 30, 40, 50, 60, 70, 80, 90, 100]
labels = ['0-10', '11-20', '21-30', '31-40', '41-50', '51-60', '61-70', '71-80', '81-90', '91-100']
df['Age_Group'] = pd.cut(df['Age'], bins=bins, labels=labels)

# Count attacks by age group
age_group_counts = df['Age_Group'].value_counts().sort_index()

# Create the visualization
plt.figure(figsize=(12, 6))
sns.barplot(x=age_group_counts.index, y=age_group_counts.values)
plt.title('Distribution of Shark Attacks by Age Group')
plt.xlabel('Age Group')
plt.ylabel('Number of Attacks')
plt.xticks(rotation=45)
plt.tight_layout()
plt.show()

# Display basic statistics about age
print("\
Age Statistics:")
print(df['Age'].describe())

# Display counts by age group
print("\
Number of Attacks by Age Group:")
print(age_group_counts)


import pandas as pd
import matplotlib.pyplot as plt
import seaborn as sns

# Create age groups if not already created
df['Age'] = pd.to_numeric(df['Age'], errors='coerce')
bins = [0, 10, 20, 30, 40, 50, 60, 70, 80, 90, 100]
labels = ['0-10', '11-20', '21-30', '31-40', '41-50', '51-60', '61-70', '71-80', '81-90', '91-100']
df['Age_Group'] = pd.cut(df['Age'], bins=bins, labels=labels)

# Get the top 5 activities
top_activities = df['Activity'].value_counts().head(5).index

# Create a cross-tabulation of age groups and activities
activity_age_data = pd.crosstab(df['Age_Group'], df['Activity'])
activity_age_data = activity_age_data[top_activities]

# Create a stacked bar plot
plt.figure(figsize=(15, 8))
activity_age_data.plot(kind='bar', stacked=True)
plt.title('Distribution of Shark Attacks by Age Group and Activity')
plt.xlabel('Age Group')
plt.ylabel('Number of Attacks')
plt.legend(title='Activity', bbox_to_anchor=(1.05, 1), loc='upper left')
plt.tight_layout()
plt.show()

# Display the numerical data
print("\
Top 5 Activities Overall:")
print(df['Activity'].value_counts().head())

print("\
Breakdown of Activities by Age Group:")
print(activity_age_data)


import pandas as pd
import matplotlib.pyplot as plt
import seaborn as sns

# Get activity counts
activity_counts = df['Activity'].value_counts()

# Create a bar plot
plt.figure(figsize=(12, 6))
sns.barplot(x=activity_counts.values, y=activity_counts.index)
plt.title('Number of Shark Attacks by Activity')
plt.xlabel('Number of Attacks')
plt.ylabel('Activity')
plt.tight_layout()
plt.show()

# Display numerical data
print("\
Number of Attacks by Activity:")
print(activity_counts)

# Calculate percentages
activity_percentages = (activity_counts / len(df) * 100).round(2)
print("\
Percentage of Total Attacks by Activity:")
print(activity_percentages)


import pandas as pd
import geopandas as gpd
import matplotlib.pyplot as plt

# Assuming 'df' is your DataFrame with shark attack data.
# Generate sample data if not available:
# df = pd.DataFrame({'Country': ['USA', 'AUSTRALIA', 'SOUTH AFRICA', 'USA', 'USA', 'BRAZIL', 'MEXICO', 'FIJI']})

# Get shark attack counts per country
country_counts = df['Country'].value_counts()

# Load world map data directly from geopandas without external files
world = gpd.read_file(gpd.datasets.get_path('naturalearth_lowres'))

# Create a dictionary to map custom country names in 'df' to standardized names in the 'world' dataset
country_mapping = {
    'USA': 'United States of America',
    'AUSTRALIA': 'Australia',
    'SOUTH AFRICA': 'South Africa',
    'NEW ZEALAND': 'New Zealand',
    'BRAZIL': 'Brazil',
    'MEXICO': 'Mexico',
    'FIJI': 'Fiji',
    'BAHAMAS': 'Bahamas',
    'PAPUA NEW GUINEA': 'Papua New Guinea',
    'REUNION': 'Réunion'  # Adjusted for natural earth name standard
}

# Map the countries in 'df' to standardized names
df['Country_Mapped'] = df['Country'].map(lambda x: country_mapping.get(x.upper(), x.upper()))

# Create a series of attack counts using standardized country names
attack_counts = df['Country_Mapped'].value_counts()

# Add a new column to the 'world' GeoDataFrame with attack counts, using the country name as the key
world['attack_counts'] = world['name'].map(lambda x: attack_counts.get(x, 0))

# Plot the map with attack counts per country
fig, ax = plt.subplots(figsize=(20, 10))
world.plot(
    column='attack_counts', 
    ax=ax, 
    legend=True, 
    legend_kwds={'label': "Number of Shark Attacks"},
    missing_kwds={'color': 'lightgrey'},  # for countries without data
    cmap='YlOrRd'
)

plt.title('Global Distribution of Shark Attacks by Country')
plt.axis('off')
plt.show()

# Display top 10 countries with the most attacks
print("Top 10 Countries with Most Shark Attacks:")
print(attack_counts.head(10))



# Group by month and count the number of attacks
monthly_attacks = df['Month'].value_counts().sort_index()

# Plot the data
plt.figure(figsize=(12, 6))
monthly_attacks.plot(kind='bar', color='skyblue')
plt.title('Shark Attacks by Month')
plt.xlabel('Month')
plt.ylabel('Number of Attacks')
plt.xticks(rotation=45)
plt.tight_layout()
plt.show()

# Display the monthly attack counts
print("\
Number of Shark Attacks by Month:")
print(monthly_attacks)






# Calculate species-specific fatality rates
species_fatality = df[df['Fatal (Y/N)'] == True].groupby('Specie').size().sort_values(ascending=False)



# Create bar plot for most dangerous species
plt.figure(figsize=(12, 6))
species_fatality.head(10).plot(kind='bar')
plt.title('Number of Fatal Attacks by Shark Species')
plt.xlabel('Species')
plt.ylabel('Number of Fatal Attacks')
plt.xticks(rotation=45)
plt.tight_layout()
plt.show()

# Print statistics
print("\
Fatal Attack Statistics:")
print(f"Total number of attacks: {total_attacks}")
print(f"Number of fatal attacks: {fatal_attacks}")
print(f"Number of non-fatal attacks: {non_fatal_attacks}")
print(f"Fatality rate: {(fatal_attacks/total_attacks)*100:.1f}%")

print("\
Most Deadly Shark Species (Top 10):")
print(species_fatality.head(10))
