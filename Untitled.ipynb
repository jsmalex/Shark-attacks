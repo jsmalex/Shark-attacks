{
 "cells": [
  {
   "cell_type": "code",
   "execution_count": 44,
   "id": "c314def1-b752-41eb-89f0-05fee88bb08b",
   "metadata": {},
   "outputs": [],
   "source": [
    "import pandas as pd\n",
    "import matplotlib.pyplot as plt\n",
    "import seaborn as sns"
   ]
  },
  {
   "cell_type": "markdown",
   "id": "54b9485f-b3ed-4109-af02-781b2c5e02c5",
   "metadata": {},
   "source": [
    "En pimera instancia se realizo una exploracio0n de la codificacion del archivo, dado que saltaba error en la codificacion del mismo, e identiificamos que el archivo de encuentra codificado en ISO-8859-1"
   ]
  },
  {
   "cell_type": "code",
   "execution_count": 45,
   "id": "822244b5-7205-43f9-a89b-da565d229e19",
   "metadata": {},
   "outputs": [
    {
     "name": "stdout",
     "output_type": "stream",
     "text": [
      "La codificación no es UTF-8. Intentando con ISO-8859-1.\n",
      "El archivo se leyó con codificación ISO-8859-1.\n"
     ]
    }
   ],
   "source": [
    "try:\n",
    "    df = pd.read_csv(\"Shark_attacks.csv\", encoding=\"utf-8\")\n",
    "    print(\"El archivo se leyó con codificación UTF-8.\")\n",
    "except UnicodeDecodeError:\n",
    "    print(\"La codificación no es UTF-8. Intentando con ISO-8859-1.\")\n",
    "    try:\n",
    "        df = pd.read_csv(\"Shark_attacks.csv\", encoding=\"ISO-8859-1\")\n",
    "        print(\"El archivo se leyó con codificación ISO-8859-1.\")\n",
    "    except UnicodeDecodeError:\n",
    "        print(\"No se pudo leer el archivo. Revisa la codificación.\")\n"
   ]
  },
  {
   "cell_type": "code",
   "execution_count": 46,
   "id": "c041a077-6d9e-400f-a3e5-e931c63110dc",
   "metadata": {},
   "outputs": [],
   "source": [
    "df = pd.read_csv('Shark_attacks.csv', encoding='ISO-8859-1', low_memory=False)\n",
    "\n"
   ]
  },
  {
   "cell_type": "markdown",
   "id": "1e9e3e2b-6c8c-4a43-b698-46cfd32c9403",
   "metadata": {},
   "source": [
    "averiguamos el numero total de registros y columnas, generando la dimension total del dataset"
   ]
  },
  {
   "cell_type": "code",
   "execution_count": 47,
   "id": "5683e43a-48c0-4604-ab8d-bd4cd21e9d4a",
   "metadata": {},
   "outputs": [
    {
     "name": "stdout",
     "output_type": "stream",
     "text": [
      "(25614, 22)\n"
     ]
    }
   ],
   "source": [
    "print(df.shape)"
   ]
  },
  {
   "cell_type": "markdown",
   "id": "79fd822f-72bb-4475-be00-fc0040b5b82c",
   "metadata": {},
   "source": [
    "exploramos los registros nulos"
   ]
  },
  {
   "cell_type": "code",
   "execution_count": 48,
   "id": "59d9eed2-19f7-4902-8b87-df2e76557b52",
   "metadata": {},
   "outputs": [
    {
     "name": "stdout",
     "output_type": "stream",
     "text": [
      "<class 'pandas.core.frame.DataFrame'>\n",
      "RangeIndex: 25614 entries, 0 to 25613\n",
      "Data columns (total 22 columns):\n",
      " #   Column                  Non-Null Count  Dtype  \n",
      "---  ------                  --------------  -----  \n",
      " 0   Case Number             6095 non-null   object \n",
      " 1   Date                    6094 non-null   object \n",
      " 2   Year                    6092 non-null   float64\n",
      " 3   Type                    6090 non-null   object \n",
      " 4   Country                 6048 non-null   object \n",
      " 5   Area                    5682 non-null   object \n",
      " 6   Location                5583 non-null   object \n",
      " 7   Activity                5559 non-null   object \n",
      " 8   Name                    5888 non-null   object \n",
      " 9   Sex                     5517 non-null   object \n",
      " 10  Age                     3374 non-null   object \n",
      " 11  Injury                  6066 non-null   object \n",
      " 12  Fatal (Y/N)             6064 non-null   object \n",
      " 13  Time                    2848 non-null   object \n",
      " 14  Species                 3100 non-null   object \n",
      " 15  Investigator or Source  6077 non-null   object \n",
      " 16  pdf                     6094 non-null   object \n",
      " 17  href formula            6093 non-null   object \n",
      " 18  href                    6093 non-null   object \n",
      " 19  Case Number.1           6094 non-null   object \n",
      " 20  Case Number.2           6094 non-null   object \n",
      " 21  original order          6094 non-null   float64\n",
      "dtypes: float64(2), object(20)\n",
      "memory usage: 4.3+ MB\n",
      "None\n"
     ]
    }
   ],
   "source": [
    "print(df.info())"
   ]
  },
  {
   "cell_type": "code",
   "execution_count": 49,
   "id": "1a26326f-adcc-4760-a716-69fbf502e51c",
   "metadata": {},
   "outputs": [
    {
     "data": {
      "text/html": [
       "<div>\n",
       "<style scoped>\n",
       "    .dataframe tbody tr th:only-of-type {\n",
       "        vertical-align: middle;\n",
       "    }\n",
       "\n",
       "    .dataframe tbody tr th {\n",
       "        vertical-align: top;\n",
       "    }\n",
       "\n",
       "    .dataframe thead th {\n",
       "        text-align: right;\n",
       "    }\n",
       "</style>\n",
       "<table border=\"1\" class=\"dataframe\">\n",
       "  <thead>\n",
       "    <tr style=\"text-align: right;\">\n",
       "      <th></th>\n",
       "      <th>Case Number</th>\n",
       "      <th>Date</th>\n",
       "      <th>Year</th>\n",
       "      <th>Type</th>\n",
       "      <th>Country</th>\n",
       "      <th>Area</th>\n",
       "      <th>Location</th>\n",
       "      <th>Activity</th>\n",
       "      <th>Name</th>\n",
       "      <th>Sex</th>\n",
       "      <th>...</th>\n",
       "      <th>Fatal (Y/N)</th>\n",
       "      <th>Time</th>\n",
       "      <th>Species</th>\n",
       "      <th>Investigator or Source</th>\n",
       "      <th>pdf</th>\n",
       "      <th>href formula</th>\n",
       "      <th>href</th>\n",
       "      <th>Case Number.1</th>\n",
       "      <th>Case Number.2</th>\n",
       "      <th>original order</th>\n",
       "    </tr>\n",
       "  </thead>\n",
       "  <tbody>\n",
       "    <tr>\n",
       "      <th>0</th>\n",
       "      <td>2017.06.11</td>\n",
       "      <td>2017-06-11</td>\n",
       "      <td>2017.0</td>\n",
       "      <td>Unprovoked</td>\n",
       "      <td>AUSTRALIA</td>\n",
       "      <td>Western Australia</td>\n",
       "      <td>Point Casuarina, Bunbury</td>\n",
       "      <td>Body boarding</td>\n",
       "      <td>Paul Goff</td>\n",
       "      <td>M</td>\n",
       "      <td>...</td>\n",
       "      <td>N</td>\n",
       "      <td>08h30</td>\n",
       "      <td>White shark, 4 m</td>\n",
       "      <td>WA Today, 6/11/2017</td>\n",
       "      <td>2017.06.11-Goff.pdf</td>\n",
       "      <td>http://sharkattackfile.net/spreadsheets/pdf_di...</td>\n",
       "      <td>http://sharkattackfile.net/spreadsheets/pdf_di...</td>\n",
       "      <td>2017.06.11</td>\n",
       "      <td>2017.06.11</td>\n",
       "      <td>6095.0</td>\n",
       "    </tr>\n",
       "    <tr>\n",
       "      <th>1</th>\n",
       "      <td>2017.06.10.b</td>\n",
       "      <td>2017-06-10</td>\n",
       "      <td>2017.0</td>\n",
       "      <td>Unprovoked</td>\n",
       "      <td>AUSTRALIA</td>\n",
       "      <td>Victoria</td>\n",
       "      <td>Flinders, Mornington Penisula</td>\n",
       "      <td>Surfing</td>\n",
       "      <td>female</td>\n",
       "      <td>F</td>\n",
       "      <td>...</td>\n",
       "      <td>N</td>\n",
       "      <td>15h45</td>\n",
       "      <td>7 gill shark</td>\n",
       "      <td>NaN</td>\n",
       "      <td>2017.06.10.b-Flinders.pdf</td>\n",
       "      <td>http://sharkattackfile.net/spreadsheets/pdf_di...</td>\n",
       "      <td>http://sharkattackfile.net/spreadsheets/pdf_di...</td>\n",
       "      <td>2017.06.10.b</td>\n",
       "      <td>2017.06.10.b</td>\n",
       "      <td>6094.0</td>\n",
       "    </tr>\n",
       "    <tr>\n",
       "      <th>2</th>\n",
       "      <td>2017.06.10.a</td>\n",
       "      <td>2017-06-10</td>\n",
       "      <td>2017.0</td>\n",
       "      <td>Unprovoked</td>\n",
       "      <td>USA</td>\n",
       "      <td>Florida</td>\n",
       "      <td>Ponce Inlet, Volusia County</td>\n",
       "      <td>Surfing</td>\n",
       "      <td>Bryan Brock</td>\n",
       "      <td>M</td>\n",
       "      <td>...</td>\n",
       "      <td>N</td>\n",
       "      <td>10h00</td>\n",
       "      <td>NaN</td>\n",
       "      <td>Daytona Beach News-Journal, 6/10/2017</td>\n",
       "      <td>2017.06.10.a-Brock.pdf</td>\n",
       "      <td>http://sharkattackfile.net/spreadsheets/pdf_di...</td>\n",
       "      <td>http://sharkattackfile.net/spreadsheets/pdf_di...</td>\n",
       "      <td>2017.06.10.a</td>\n",
       "      <td>2017.06.10.a</td>\n",
       "      <td>6093.0</td>\n",
       "    </tr>\n",
       "    <tr>\n",
       "      <th>3</th>\n",
       "      <td>2017.06.07.R</td>\n",
       "      <td>Reported 07-Jun-2017</td>\n",
       "      <td>2017.0</td>\n",
       "      <td>Unprovoked</td>\n",
       "      <td>UNITED KINGDOM</td>\n",
       "      <td>South Devon</td>\n",
       "      <td>Bantham Beach</td>\n",
       "      <td>Surfing</td>\n",
       "      <td>Rich Thomson</td>\n",
       "      <td>M</td>\n",
       "      <td>...</td>\n",
       "      <td>N</td>\n",
       "      <td>NaN</td>\n",
       "      <td>3m shark, probably a smooth hound</td>\n",
       "      <td>C. Moore, GSAF</td>\n",
       "      <td>2017.06.07.R-Thomson.pdf</td>\n",
       "      <td>http://sharkattackfile.net/spreadsheets/pdf_di...</td>\n",
       "      <td>http://sharkattackfile.net/spreadsheets/pdf_di...</td>\n",
       "      <td>2017.06.07.R</td>\n",
       "      <td>2017.06.07.R</td>\n",
       "      <td>6092.0</td>\n",
       "    </tr>\n",
       "    <tr>\n",
       "      <th>4</th>\n",
       "      <td>2017.06.04</td>\n",
       "      <td>2017-06-04</td>\n",
       "      <td>2017.0</td>\n",
       "      <td>Unprovoked</td>\n",
       "      <td>USA</td>\n",
       "      <td>Florida</td>\n",
       "      <td>Middle Sambo Reef off Boca Chica, Monroe County</td>\n",
       "      <td>Spearfishing</td>\n",
       "      <td>Parker Simpson</td>\n",
       "      <td>M</td>\n",
       "      <td>...</td>\n",
       "      <td>N</td>\n",
       "      <td>NaN</td>\n",
       "      <td>8' shark</td>\n",
       "      <td>Nine News, 6/7/2017</td>\n",
       "      <td>2017.06.04-Simpson.pdf</td>\n",
       "      <td>http://sharkattackfile.net/spreadsheets/pdf_di...</td>\n",
       "      <td>http://sharkattackfile.net/spreadsheets/pdf_di...</td>\n",
       "      <td>2017.06.04</td>\n",
       "      <td>2017.06.04</td>\n",
       "      <td>6091.0</td>\n",
       "    </tr>\n",
       "  </tbody>\n",
       "</table>\n",
       "<p>5 rows × 22 columns</p>\n",
       "</div>"
      ],
      "text/plain": [
       "    Case Number                  Date    Year        Type         Country  \\\n",
       "0    2017.06.11            2017-06-11  2017.0  Unprovoked       AUSTRALIA   \n",
       "1  2017.06.10.b            2017-06-10  2017.0  Unprovoked       AUSTRALIA   \n",
       "2  2017.06.10.a            2017-06-10  2017.0  Unprovoked             USA   \n",
       "3  2017.06.07.R  Reported 07-Jun-2017  2017.0  Unprovoked  UNITED KINGDOM   \n",
       "4    2017.06.04            2017-06-04  2017.0  Unprovoked             USA   \n",
       "\n",
       "                Area                                         Location  \\\n",
       "0  Western Australia                         Point Casuarina, Bunbury   \n",
       "1           Victoria                    Flinders, Mornington Penisula   \n",
       "2            Florida                      Ponce Inlet, Volusia County   \n",
       "3        South Devon                                    Bantham Beach   \n",
       "4            Florida  Middle Sambo Reef off Boca Chica, Monroe County   \n",
       "\n",
       "        Activity            Name Sex   ... Fatal (Y/N)   Time  \\\n",
       "0  Body boarding       Paul Goff    M  ...           N  08h30   \n",
       "1        Surfing          female    F  ...           N  15h45   \n",
       "2        Surfing     Bryan Brock    M  ...           N  10h00   \n",
       "3       Surfing     Rich Thomson    M  ...           N    NaN   \n",
       "4   Spearfishing  Parker Simpson    M  ...           N    NaN   \n",
       "\n",
       "                            Species                  Investigator or Source  \\\n",
       "0                   White shark, 4 m                    WA Today, 6/11/2017   \n",
       "1                       7 gill shark                                    NaN   \n",
       "2                                NaN  Daytona Beach News-Journal, 6/10/2017   \n",
       "3  3m shark, probably a smooth hound                         C. Moore, GSAF   \n",
       "4                           8' shark                    Nine News, 6/7/2017   \n",
       "\n",
       "                         pdf  \\\n",
       "0        2017.06.11-Goff.pdf   \n",
       "1  2017.06.10.b-Flinders.pdf   \n",
       "2     2017.06.10.a-Brock.pdf   \n",
       "3   2017.06.07.R-Thomson.pdf   \n",
       "4     2017.06.04-Simpson.pdf   \n",
       "\n",
       "                                        href formula  \\\n",
       "0  http://sharkattackfile.net/spreadsheets/pdf_di...   \n",
       "1  http://sharkattackfile.net/spreadsheets/pdf_di...   \n",
       "2  http://sharkattackfile.net/spreadsheets/pdf_di...   \n",
       "3  http://sharkattackfile.net/spreadsheets/pdf_di...   \n",
       "4  http://sharkattackfile.net/spreadsheets/pdf_di...   \n",
       "\n",
       "                                                href Case Number.1  \\\n",
       "0  http://sharkattackfile.net/spreadsheets/pdf_di...    2017.06.11   \n",
       "1  http://sharkattackfile.net/spreadsheets/pdf_di...  2017.06.10.b   \n",
       "2  http://sharkattackfile.net/spreadsheets/pdf_di...  2017.06.10.a   \n",
       "3  http://sharkattackfile.net/spreadsheets/pdf_di...  2017.06.07.R   \n",
       "4  http://sharkattackfile.net/spreadsheets/pdf_di...    2017.06.04   \n",
       "\n",
       "  Case Number.2 original order  \n",
       "0    2017.06.11         6095.0  \n",
       "1  2017.06.10.b         6094.0  \n",
       "2  2017.06.10.a         6093.0  \n",
       "3  2017.06.07.R         6092.0  \n",
       "4    2017.06.04         6091.0  \n",
       "\n",
       "[5 rows x 22 columns]"
      ]
     },
     "execution_count": 49,
     "metadata": {},
     "output_type": "execute_result"
    }
   ],
   "source": [
    "df.head()"
   ]
  },
  {
   "cell_type": "markdown",
   "id": "26191594-4a41-4add-87e8-17797e5a2d15",
   "metadata": {},
   "source": [
    "Buscamos Valores unicos en la columna Case Number para saber si cada caso es distinto"
   ]
  },
  {
   "cell_type": "code",
   "execution_count": 50,
   "id": "7d7ffe0d-c393-4977-94f5-c984c920128e",
   "metadata": {},
   "outputs": [
    {
     "name": "stdout",
     "output_type": "stream",
     "text": [
      "6080\n"
     ]
    }
   ],
   "source": [
    "valores_unicos = df[\"Case Number\"].unique()\n",
    "print(len(valores_unicos))"
   ]
  },
  {
   "cell_type": "markdown",
   "id": "cd89d7a3-8fb9-47d2-828b-5bc71b88dcd8",
   "metadata": {},
   "source": [
    "Como tenemos un total de 6095 registros y 6080 valores son unicos, damos por supuesto que todos los casos son distintos "
   ]
  },
  {
   "cell_type": "markdown",
   "id": "2bb9127b-95fb-4d67-966f-9c45e07c115b",
   "metadata": {},
   "source": [
    "despues de explorar la tabla, y observar la gran cantidad de valores unicos por columna, decidimos realizar una limpieza de las columnas que no serian utiles en nuestro analisis, quedando unicamente las columnas siguientes:"
   ]
  },
  {
   "cell_type": "code",
   "execution_count": 51,
   "id": "cbab6731-f83d-400d-93f3-c2400daf208a",
   "metadata": {},
   "outputs": [],
   "source": [
    "dflimpio = df[[\"Year\",\"Type\",\"Country\",\"Sex \",\"Age\",\"Fatal (Y/N)\"]]"
   ]
  },
  {
   "cell_type": "code",
   "execution_count": 52,
   "id": "6931cbc3-b3a7-466b-826f-17123d73f6d4",
   "metadata": {},
   "outputs": [
    {
     "name": "stdout",
     "output_type": "stream",
     "text": [
      "<class 'pandas.core.frame.DataFrame'>\n",
      "RangeIndex: 25614 entries, 0 to 25613\n",
      "Data columns (total 6 columns):\n",
      " #   Column       Non-Null Count  Dtype  \n",
      "---  ------       --------------  -----  \n",
      " 0   Year         6092 non-null   float64\n",
      " 1   Type         6090 non-null   object \n",
      " 2   Country      6048 non-null   object \n",
      " 3   Sex          5517 non-null   object \n",
      " 4   Age          3374 non-null   object \n",
      " 5   Fatal (Y/N)  6064 non-null   object \n",
      "dtypes: float64(1), object(5)\n",
      "memory usage: 1.2+ MB\n"
     ]
    }
   ],
   "source": [
    "dflimpio.info()"
   ]
  },
  {
   "cell_type": "markdown",
   "id": "22b84d8e-c223-45cb-8c5b-9f29dd99549c",
   "metadata": {},
   "source": [
    "eliminamos los datos nulos"
   ]
  },
  {
   "cell_type": "code",
   "execution_count": 53,
   "id": "92955fac-b398-4122-a724-58f591daa09a",
   "metadata": {},
   "outputs": [],
   "source": [
    "df_clear = dflimpio.dropna()"
   ]
  },
  {
   "cell_type": "code",
   "execution_count": 54,
   "id": "8e3df9e1-f130-4b89-979c-6e6575332de3",
   "metadata": {},
   "outputs": [
    {
     "name": "stdout",
     "output_type": "stream",
     "text": [
      "<class 'pandas.core.frame.DataFrame'>\n",
      "Index: 3315 entries, 0 to 6093\n",
      "Data columns (total 6 columns):\n",
      " #   Column       Non-Null Count  Dtype  \n",
      "---  ------       --------------  -----  \n",
      " 0   Year         3315 non-null   float64\n",
      " 1   Type         3315 non-null   object \n",
      " 2   Country      3315 non-null   object \n",
      " 3   Sex          3315 non-null   object \n",
      " 4   Age          3315 non-null   object \n",
      " 5   Fatal (Y/N)  3315 non-null   object \n",
      "dtypes: float64(1), object(5)\n",
      "memory usage: 181.3+ KB\n"
     ]
    }
   ],
   "source": [
    "df_clear.info()"
   ]
  },
  {
   "cell_type": "code",
   "execution_count": 55,
   "id": "47d93a67-ae60-4625-a56c-9b96b71629f6",
   "metadata": {},
   "outputs": [
    {
     "data": {
      "text/html": [
       "<div>\n",
       "<style scoped>\n",
       "    .dataframe tbody tr th:only-of-type {\n",
       "        vertical-align: middle;\n",
       "    }\n",
       "\n",
       "    .dataframe tbody tr th {\n",
       "        vertical-align: top;\n",
       "    }\n",
       "\n",
       "    .dataframe thead th {\n",
       "        text-align: right;\n",
       "    }\n",
       "</style>\n",
       "<table border=\"1\" class=\"dataframe\">\n",
       "  <thead>\n",
       "    <tr style=\"text-align: right;\">\n",
       "      <th></th>\n",
       "      <th>Year</th>\n",
       "      <th>Type</th>\n",
       "      <th>Country</th>\n",
       "      <th>Sex</th>\n",
       "      <th>Age</th>\n",
       "      <th>Fatal (Y/N)</th>\n",
       "    </tr>\n",
       "  </thead>\n",
       "  <tbody>\n",
       "    <tr>\n",
       "      <th>0</th>\n",
       "      <td>2017.0</td>\n",
       "      <td>Unprovoked</td>\n",
       "      <td>AUSTRALIA</td>\n",
       "      <td>M</td>\n",
       "      <td>48</td>\n",
       "      <td>N</td>\n",
       "    </tr>\n",
       "    <tr>\n",
       "      <th>2</th>\n",
       "      <td>2017.0</td>\n",
       "      <td>Unprovoked</td>\n",
       "      <td>USA</td>\n",
       "      <td>M</td>\n",
       "      <td>19</td>\n",
       "      <td>N</td>\n",
       "    </tr>\n",
       "    <tr>\n",
       "      <th>3</th>\n",
       "      <td>2017.0</td>\n",
       "      <td>Unprovoked</td>\n",
       "      <td>UNITED KINGDOM</td>\n",
       "      <td>M</td>\n",
       "      <td>30</td>\n",
       "      <td>N</td>\n",
       "    </tr>\n",
       "    <tr>\n",
       "      <th>5</th>\n",
       "      <td>2017.0</td>\n",
       "      <td>Unprovoked</td>\n",
       "      <td>BAHAMAS</td>\n",
       "      <td>F</td>\n",
       "      <td>32</td>\n",
       "      <td>N</td>\n",
       "    </tr>\n",
       "    <tr>\n",
       "      <th>6</th>\n",
       "      <td>2017.0</td>\n",
       "      <td>Provoked</td>\n",
       "      <td>USA</td>\n",
       "      <td>F</td>\n",
       "      <td>20</td>\n",
       "      <td>N</td>\n",
       "    </tr>\n",
       "  </tbody>\n",
       "</table>\n",
       "</div>"
      ],
      "text/plain": [
       "     Year        Type         Country Sex  Age Fatal (Y/N)\n",
       "0  2017.0  Unprovoked       AUSTRALIA    M  48           N\n",
       "2  2017.0  Unprovoked             USA    M  19           N\n",
       "3  2017.0  Unprovoked  UNITED KINGDOM    M  30           N\n",
       "5  2017.0  Unprovoked         BAHAMAS    F  32           N\n",
       "6  2017.0    Provoked             USA    F  20           N"
      ]
     },
     "execution_count": 55,
     "metadata": {},
     "output_type": "execute_result"
    }
   ],
   "source": [
    "df_clear.head()"
   ]
  },
  {
   "cell_type": "markdown",
   "id": "4dfd8d37-da3f-4271-99ca-481c77b0e3af",
   "metadata": {},
   "source": [
    "Vamos a limpiar la columna de la edad.\n",
    "\n",
    "Convertimos la columna a numerico y los valores no numericos se transforman en NaN"
   ]
  },
  {
   "cell_type": "code",
   "execution_count": 56,
   "id": "2c282aa1-f61c-4903-a81b-76faaadc7621",
   "metadata": {},
   "outputs": [
    {
     "name": "stdout",
     "output_type": "stream",
     "text": [
      "0       48.0\n",
      "2       19.0\n",
      "3       30.0\n",
      "5       32.0\n",
      "6       20.0\n",
      "        ... \n",
      "6035    16.0\n",
      "6046    50.0\n",
      "6057     NaN\n",
      "6068    16.0\n",
      "6093    15.0\n",
      "Name: Age, Length: 3315, dtype: float64\n",
      "94\n"
     ]
    },
    {
     "name": "stderr",
     "output_type": "stream",
     "text": [
      "/tmp/ipykernel_57367/3932975453.py:1: SettingWithCopyWarning: \n",
      "A value is trying to be set on a copy of a slice from a DataFrame.\n",
      "Try using .loc[row_indexer,col_indexer] = value instead\n",
      "\n",
      "See the caveats in the documentation: https://pandas.pydata.org/pandas-docs/stable/user_guide/indexing.html#returning-a-view-versus-a-copy\n",
      "  df_clear['Age'] = pd.to_numeric(df_clear['Age'], errors='coerce')\n"
     ]
    }
   ],
   "source": [
    "\n",
    "df_clear['Age'] = pd.to_numeric(df_clear['Age'], errors='coerce')\n",
    "\n",
    "print(df_clear['Age'])\n",
    "nulos = df_clear[\"Age\"].isna().sum()\n",
    "print(nulos)"
   ]
  },
  {
   "cell_type": "markdown",
   "id": "3e4c8cbd-c987-4477-97ca-df32f9e236ed",
   "metadata": {},
   "source": [
    "Dado que son pocos registros los que resultan nulos las edades, comparados con el resto de datos. \n",
    "\n",
    "Eliminamos los valores NaN en la columna Age"
   ]
  },
  {
   "cell_type": "code",
   "execution_count": 57,
   "id": "8030c37e-4cb9-4009-9905-cb73875d2113",
   "metadata": {},
   "outputs": [],
   "source": [
    "df_clear = df_clear.dropna(subset=['Age'])"
   ]
  },
  {
   "cell_type": "markdown",
   "id": "d557ebe6-20db-4dc5-a431-5477606b789b",
   "metadata": {},
   "source": [
    "Convertimos el tipo de Dato de la columna Age de float a Int"
   ]
  },
  {
   "cell_type": "code",
   "execution_count": 58,
   "id": "0ca4dddc-97a1-4cdc-b9e1-65c349733730",
   "metadata": {},
   "outputs": [],
   "source": [
    "df_clear['Age'] = df_clear['Age'].astype(int)\n"
   ]
  },
  {
   "cell_type": "code",
   "execution_count": 59,
   "id": "cb259bd5-4a6a-4066-a67c-db32f13c6b8b",
   "metadata": {},
   "outputs": [
    {
     "name": "stdout",
     "output_type": "stream",
     "text": [
      "<class 'pandas.core.frame.DataFrame'>\n",
      "Index: 3221 entries, 0 to 6093\n",
      "Data columns (total 6 columns):\n",
      " #   Column       Non-Null Count  Dtype  \n",
      "---  ------       --------------  -----  \n",
      " 0   Year         3221 non-null   float64\n",
      " 1   Type         3221 non-null   object \n",
      " 2   Country      3221 non-null   object \n",
      " 3   Sex          3221 non-null   object \n",
      " 4   Age          3221 non-null   int64  \n",
      " 5   Fatal (Y/N)  3221 non-null   object \n",
      "dtypes: float64(1), int64(1), object(4)\n",
      "memory usage: 176.1+ KB\n"
     ]
    }
   ],
   "source": [
    "df_clear.head()\n",
    "df_clear.info()"
   ]
  },
  {
   "cell_type": "markdown",
   "id": "608ce878-4fe4-4045-9ae8-34965b16a617",
   "metadata": {},
   "source": [
    "Vamos a limpiar la columna de los años.\n",
    "\n",
    "Miramos los valores unicos "
   ]
  },
  {
   "cell_type": "code",
   "execution_count": 60,
   "id": "2fed1bc6-ddde-4866-bf03-28c5cdc61969",
   "metadata": {},
   "outputs": [
    {
     "name": "stdout",
     "output_type": "stream",
     "text": [
      "[2017.   nan 2016. 2015. 2014. 2013. 2012. 2011. 2010. 2009. 2008. 2007.\n",
      " 2006. 2005. 2004. 2003. 2002. 2001. 2000. 1999. 1998. 1997. 1996. 1995.\n",
      " 1984. 1994. 1993. 1992. 1991. 1990. 1989. 1969. 1988. 1987. 1986. 1985.\n",
      " 1983. 1982. 1981. 1980. 1979. 1978. 1977. 1976. 1975. 1974. 1973. 1972.\n",
      " 1971. 1970. 1968. 1967. 1966. 1965. 1964. 1963. 1962. 1961. 1960. 1959.\n",
      " 1958. 1957. 1956. 1955. 1954. 1953. 1952. 1951. 1950. 1949. 1948. 1848.\n",
      " 1947. 1946. 1945. 1944. 1943. 1942. 1941. 1940. 1939. 1938. 1937. 1936.\n",
      " 1935. 1934. 1933. 1932. 1931. 1930. 1929. 1928. 1927. 1926. 1925. 1924.\n",
      " 1923. 1922. 1921. 1920. 1919. 1918. 1917. 1916. 1915. 1914. 1913. 1912.\n",
      " 1911. 1910. 1909. 1908. 1907. 1906. 1905. 1904. 1903. 1902. 1901. 1900.\n",
      " 1899. 1898. 1897. 1896. 1895. 1894. 1893. 1892. 1891. 1890. 1889. 1888.\n",
      " 1887. 1886. 1885. 1884. 1883. 1882. 1881. 1880. 1879. 1878. 1877. 1876.\n",
      " 1875. 1874. 1873. 1872. 1871. 1870. 1869. 1868. 1867. 1866. 1865. 1864.\n",
      " 1863. 1862. 1861. 1860. 1859. 1858. 1856. 1855. 1854. 1853. 1852. 1851.\n",
      " 1850. 1849. 1847. 1846. 1845. 1844. 1842. 1841. 1840. 1839. 1837. 1836.\n",
      " 1835. 1834. 1832. 1831. 1830. 1829. 1828. 1827. 1826. 1825. 1823. 1822.\n",
      " 1819. 1818. 1817. 1816. 1812. 1811. 1807. 1805. 1804. 1803. 1802. 1800.\n",
      " 1797. 1791. 1788. 1787. 1786. 1785. 1774. 1779. 1776. 1771. 1767. 1764.\n",
      " 1758. 1753. 1751. 1749. 1755. 1748. 1742. 1738. 1733. 1721. 1703. 1700.\n",
      " 1642. 1638. 1637. 1617. 1595. 1580. 1555. 1554. 1543.  500.   77.    5.\n",
      "    0.]\n"
     ]
    }
   ],
   "source": [
    "valores_unicos = df[\"Year\"].unique()\n",
    "print(valores_unicos)"
   ]
  },
  {
   "cell_type": "markdown",
   "id": "348b77e3-7dd9-4a4b-b3b8-04d22a7468ca",
   "metadata": {},
   "source": [
    "Limpiamos los registros con fechas NaN y con fechas anteriores o iguales a 500"
   ]
  },
  {
   "cell_type": "code",
   "execution_count": 61,
   "id": "5a11850c-46c1-464f-b1d8-4bae2de49b6b",
   "metadata": {},
   "outputs": [],
   "source": [
    "df_clear = df_clear[df_clear[\"Year\"]>500]\n"
   ]
  },
  {
   "cell_type": "markdown",
   "id": "29c2f1fd-0d61-4e1d-b29e-dabf321c948a",
   "metadata": {},
   "source": [
    "Ahora transformamos el tipo de dato de la columna de float a int "
   ]
  },
  {
   "cell_type": "code",
   "execution_count": 62,
   "id": "98ea7d06-3630-45eb-8ed6-338ab3e50d6a",
   "metadata": {},
   "outputs": [],
   "source": [
    "df_clear['Year'] = df_clear['Year'].astype(int)"
   ]
  },
  {
   "cell_type": "markdown",
   "id": "fd32fd48-c7ea-4706-bbab-bc2104a0fe04",
   "metadata": {},
   "source": [
    "convertimos el dato int a datetype "
   ]
  },
  {
   "cell_type": "code",
   "execution_count": 63,
   "id": "6bfa3584-eeb6-4a72-956b-34fe8d2c1cb7",
   "metadata": {},
   "outputs": [],
   "source": [
    "df_clear['Year'] = pd.to_datetime(df_clear['Year'], format='%Y', errors='coerce')\n",
    "df_clear['Year'] = df_clear['Year'].dt.year"
   ]
  },
  {
   "cell_type": "markdown",
   "id": "8d01c618-15c4-4403-88d5-b98ead592e59",
   "metadata": {},
   "source": [
    "como se puede observar, despues de trabajar con la columna Year el tamaño del dataset se ha reducido de 3221 a 3209"
   ]
  },
  {
   "cell_type": "code",
   "execution_count": 64,
   "id": "46b7f967-f98d-452e-9449-43664b2d1e7b",
   "metadata": {},
   "outputs": [
    {
     "name": "stdout",
     "output_type": "stream",
     "text": [
      "<class 'pandas.core.frame.DataFrame'>\n",
      "Index: 3209 entries, 0 to 5953\n",
      "Data columns (total 6 columns):\n",
      " #   Column       Non-Null Count  Dtype \n",
      "---  ------       --------------  ----- \n",
      " 0   Year         3209 non-null   int32 \n",
      " 1   Type         3209 non-null   object\n",
      " 2   Country      3209 non-null   object\n",
      " 3   Sex          3209 non-null   object\n",
      " 4   Age          3209 non-null   int64 \n",
      " 5   Fatal (Y/N)  3209 non-null   object\n",
      "dtypes: int32(1), int64(1), object(4)\n",
      "memory usage: 163.0+ KB\n"
     ]
    }
   ],
   "source": [
    "df_clear.info()"
   ]
  },
  {
   "cell_type": "markdown",
   "id": "a8c6b574-5086-49c8-85f7-eeddf9951941",
   "metadata": {},
   "source": [
    "Ahora trabajamos con la columns Type.\n",
    "\n",
    "Sacamos los valores unicos para analizarlos"
   ]
  },
  {
   "cell_type": "code",
   "execution_count": 65,
   "id": "feaf78f1-e3b9-434c-9c73-40ae75ddd81b",
   "metadata": {},
   "outputs": [
    {
     "name": "stdout",
     "output_type": "stream",
     "text": [
      "['Unprovoked' 'Provoked' 'Invalid' 'Boat' 'Sea Disaster' 'Boating']\n"
     ]
    }
   ],
   "source": [
    "valores_unicos = df_clear[\"Type\"].unique()\n",
    "print(valores_unicos)"
   ]
  },
  {
   "cell_type": "markdown",
   "id": "58243f22-d5d6-4851-b7a0-807084159d48",
   "metadata": {},
   "source": [
    "en esta columna solo se realizo la operacion de cambio de tipo a categoria"
   ]
  },
  {
   "cell_type": "code",
   "execution_count": 66,
   "id": "849f36a0-41f5-4173-b5b9-a7652db067a4",
   "metadata": {},
   "outputs": [
    {
     "name": "stdout",
     "output_type": "stream",
     "text": [
      "<class 'pandas.core.frame.DataFrame'>\n",
      "Index: 3209 entries, 0 to 5953\n",
      "Data columns (total 6 columns):\n",
      " #   Column       Non-Null Count  Dtype   \n",
      "---  ------       --------------  -----   \n",
      " 0   Year         3209 non-null   int32   \n",
      " 1   Type         3209 non-null   category\n",
      " 2   Country      3209 non-null   object  \n",
      " 3   Sex          3209 non-null   object  \n",
      " 4   Age          3209 non-null   int64   \n",
      " 5   Fatal (Y/N)  3209 non-null   object  \n",
      "dtypes: category(1), int32(1), int64(1), object(3)\n",
      "memory usage: 141.2+ KB\n"
     ]
    }
   ],
   "source": [
    "df_clear['Type'] = df_clear['Type'].astype('category')\n",
    "\n",
    "df_clear.info()"
   ]
  },
  {
   "cell_type": "markdown",
   "id": "02305774-5124-4045-9f92-1aaca66a4fdb",
   "metadata": {},
   "source": [
    "Ahora pasamos a la columna de Country"
   ]
  },
  {
   "cell_type": "code",
   "execution_count": 67,
   "id": "b1d9d4a5-ac93-4f0d-8a64-a13b53c15e75",
   "metadata": {},
   "outputs": [
    {
     "name": "stdout",
     "output_type": "stream",
     "text": [
      "['AUSTRALIA' 'USA' 'UNITED KINGDOM' 'BAHAMAS' 'UNITED ARAB EMIRATES'\n",
      " 'MEXICO' 'SOUTH AFRICA' 'REUNION' 'ST HELENA, British overseas territory'\n",
      " 'INDONESIA' 'England' 'NEW CALEDONIA' 'SPAIN' 'CHINA' 'JAPAN' 'COLUMBIA'\n",
      " 'EGYPT' 'NEW ZEALAND' 'FRENCH POLYNESIA' 'CAPE VERDE' 'Fiji' 'BRAZIL'\n",
      " 'CAYMAN ISLANDS' 'ARUBA' 'ECUADOR' 'MOZAMBIQUE' 'THAILAND' 'PUERTO RICO'\n",
      " 'ITALY' 'MAURITIUS' 'ST. MARTIN' 'PAPUA NEW GUINEA' 'KIRIBATI' 'ISRAEL'\n",
      " 'FRANCE' 'DIEGO GARCIA' 'JAMAICA' 'PALESTINIAN TERRITORIES' 'GUAM'\n",
      " 'SEYCHELLES' 'NIGERIA' 'TONGA' 'SCOTLAND' 'TRINIDAD & TOBAGO' 'CANADA'\n",
      " 'FIJI' 'SAUDI ARABIA' 'TAIWAN' 'DOMINICAN REPUBLIC' 'KENYA' 'RUSSIA'\n",
      " 'PHILIPPINES' 'TURKS & CAICOS' 'COSTA RICA' 'UNITED ARAB EMIRATES (UAE)'\n",
      " 'SAMOA' 'SOLOMON ISLANDS' 'SOUTH KOREA' 'MALTA' 'VIETNAM' 'MADAGASCAR'\n",
      " 'PANAMA' 'AZORES' 'CUBA' 'CROATIA' 'ENGLAND' 'BRITISH VIRGIN ISLANDS'\n",
      " 'NORWAY' 'BELIZE' 'ST. MAARTIN' 'GRAND CAYMAN' 'VANUATU' 'SRI LANKA'\n",
      " 'URUGUAY' 'VENEZUELA' 'INDIA' 'OKINAWA' 'TANZANIA' ' TONGA'\n",
      " 'MARSHALL ISLANDS' 'SENEGAL' 'HONG KONG' 'CHILE' 'SOMALIA' 'EL SALVADOR'\n",
      " 'GREECE' 'NORTH ATLANTIC OCEAN' 'PORTUGAL' 'SOUTH CHINA SEA' 'BERMUDA'\n",
      " 'WESTERN SAMOA' 'PACIFIC OCEAN ' 'BRITISH ISLES' 'MICRONESIA' 'PALAU'\n",
      " 'GRENADA' 'IRAQ' 'TURKEY' 'SINGAPORE' 'NEW BRITAIN' 'NEW GUINEA'\n",
      " 'NORTH PACIFIC OCEAN' 'FEDERATED STATES OF MICRONESIA'\n",
      " 'ADMIRALTY ISLANDS' 'BRITISH WEST INDIES' 'SOUTH ATLANTIC OCEAN'\n",
      " 'MID ATLANTIC OCEAN' 'JOHNSTON ISLAND' 'NORTH SEA' 'MALDIVE ISLANDS'\n",
      " 'AMERICAN SAMOA' 'ANDAMAN / NICOBAR ISLANDAS' 'PACIFIC OCEAN'\n",
      " 'NORTH ATLANTIC OCEAN ' 'ARGENTINA' 'IRAN' 'SIERRA LEONE'\n",
      " 'CENTRAL PACIFIC' 'ATLANTIC OCEAN' 'BARBADOS' 'FALKLAND ISLANDS'\n",
      " 'NICARAGUA' 'EGYPT ' 'YEMEN ' 'HAITI' 'BRITISH NEW GUINEA' 'HONDURAS'\n",
      " 'GUINEA']\n"
     ]
    }
   ],
   "source": [
    "valores_unicos = df_clear[\"Country\"].unique()\n",
    "print(valores_unicos)"
   ]
  },
  {
   "cell_type": "markdown",
   "id": "d75236a0-e0e8-4a3c-ae0b-27dcad9cafd0",
   "metadata": {},
   "source": [
    "Trimamos las strings para eliminar los espacios y convertimos a mayusculas para homogeneizar los registros"
   ]
  },
  {
   "cell_type": "code",
   "execution_count": 68,
   "id": "b99e32c2-0feb-4cf8-b966-8df9f156d8ad",
   "metadata": {},
   "outputs": [
    {
     "name": "stdout",
     "output_type": "stream",
     "text": [
      "['AUSTRALIA' 'USA' 'UNITED KINGDOM' 'BAHAMAS' 'UNITED ARAB EMIRATES'\n",
      " 'MEXICO' 'SOUTH AFRICA' 'REUNION' 'ST HELENA, BRITISH OVERSEAS TERRITORY'\n",
      " 'INDONESIA' 'ENGLAND' 'NEW CALEDONIA' 'SPAIN' 'CHINA' 'JAPAN' 'COLUMBIA'\n",
      " 'EGYPT' 'NEW ZEALAND' 'FRENCH POLYNESIA' 'CAPE VERDE' 'FIJI' 'BRAZIL'\n",
      " 'CAYMAN ISLANDS' 'ARUBA' 'ECUADOR' 'MOZAMBIQUE' 'THAILAND' 'PUERTO RICO'\n",
      " 'ITALY' 'MAURITIUS' 'ST. MARTIN' 'PAPUA NEW GUINEA' 'KIRIBATI' 'ISRAEL'\n",
      " 'FRANCE' 'DIEGO GARCIA' 'JAMAICA' 'PALESTINIAN TERRITORIES' 'GUAM'\n",
      " 'SEYCHELLES' 'NIGERIA' 'TONGA' 'SCOTLAND' 'TRINIDAD & TOBAGO' 'CANADA'\n",
      " 'SAUDI ARABIA' 'TAIWAN' 'DOMINICAN REPUBLIC' 'KENYA' 'RUSSIA'\n",
      " 'PHILIPPINES' 'TURKS & CAICOS' 'COSTA RICA' 'UNITED ARAB EMIRATES (UAE)'\n",
      " 'SAMOA' 'SOLOMON ISLANDS' 'SOUTH KOREA' 'MALTA' 'VIETNAM' 'MADAGASCAR'\n",
      " 'PANAMA' 'AZORES' 'CUBA' 'CROATIA' 'BRITISH VIRGIN ISLANDS' 'NORWAY'\n",
      " 'BELIZE' 'ST. MAARTIN' 'GRAND CAYMAN' 'VANUATU' 'SRI LANKA' 'URUGUAY'\n",
      " 'VENEZUELA' 'INDIA' 'OKINAWA' 'TANZANIA' 'MARSHALL ISLANDS' 'SENEGAL'\n",
      " 'HONG KONG' 'CHILE' 'SOMALIA' 'EL SALVADOR' 'GREECE'\n",
      " 'NORTH ATLANTIC OCEAN' 'PORTUGAL' 'SOUTH CHINA SEA' 'BERMUDA'\n",
      " 'WESTERN SAMOA' 'PACIFIC OCEAN' 'BRITISH ISLES' 'MICRONESIA' 'PALAU'\n",
      " 'GRENADA' 'IRAQ' 'TURKEY' 'SINGAPORE' 'NEW BRITAIN' 'NEW GUINEA'\n",
      " 'NORTH PACIFIC OCEAN' 'FEDERATED STATES OF MICRONESIA'\n",
      " 'ADMIRALTY ISLANDS' 'BRITISH WEST INDIES' 'SOUTH ATLANTIC OCEAN'\n",
      " 'MID ATLANTIC OCEAN' 'JOHNSTON ISLAND' 'NORTH SEA' 'MALDIVE ISLANDS'\n",
      " 'AMERICAN SAMOA' 'ANDAMAN / NICOBAR ISLANDAS' 'ARGENTINA' 'IRAN'\n",
      " 'SIERRA LEONE' 'CENTRAL PACIFIC' 'ATLANTIC OCEAN' 'BARBADOS'\n",
      " 'FALKLAND ISLANDS' 'NICARAGUA' 'YEMEN' 'HAITI' 'BRITISH NEW GUINEA'\n",
      " 'HONDURAS' 'GUINEA']\n"
     ]
    }
   ],
   "source": [
    "# Convert all values in the 'Country' column to uppercase and remove leading/trailing whitespace\n",
    "df_clear['Country'] = df_clear['Country'].str.upper().str.strip()\n",
    "\n",
    "# Display unique values to confirm the changes\n",
    "valores_unicos = df_clear['Country'].unique()\n",
    "print(valores_unicos)\n"
   ]
  },
  {
   "cell_type": "code",
   "execution_count": 69,
   "id": "98b93905-fa9a-43e2-b25b-4ba78d8a40ce",
   "metadata": {},
   "outputs": [
    {
     "name": "stdout",
     "output_type": "stream",
     "text": [
      "<class 'pandas.core.frame.DataFrame'>\n",
      "Index: 3209 entries, 0 to 5953\n",
      "Data columns (total 6 columns):\n",
      " #   Column       Non-Null Count  Dtype   \n",
      "---  ------       --------------  -----   \n",
      " 0   Year         3209 non-null   int32   \n",
      " 1   Type         3209 non-null   category\n",
      " 2   Country      3209 non-null   object  \n",
      " 3   Sex          3209 non-null   object  \n",
      " 4   Age          3209 non-null   int64   \n",
      " 5   Fatal (Y/N)  3209 non-null   object  \n",
      "dtypes: category(1), int32(1), int64(1), object(3)\n",
      "memory usage: 141.2+ KB\n"
     ]
    }
   ],
   "source": [
    "df_clear.info()"
   ]
  },
  {
   "cell_type": "markdown",
   "id": "11ea6524-3c0f-4343-b872-09c68ad2cb75",
   "metadata": {},
   "source": [
    "Seguidamente trabajamos la columna Sex"
   ]
  },
  {
   "cell_type": "markdown",
   "id": "a1ca82b9-2e4c-4783-9e75-bdf11f43754e",
   "metadata": {},
   "source": [
    "se modifica el nombre de la columna porque contenia errores de sintaxis"
   ]
  },
  {
   "cell_type": "code",
   "execution_count": 70,
   "id": "59fdc760-fd8d-4d94-b1ab-71a165988a72",
   "metadata": {},
   "outputs": [
    {
     "name": "stdout",
     "output_type": "stream",
     "text": [
      "<class 'pandas.core.frame.DataFrame'>\n",
      "Index: 3209 entries, 0 to 5953\n",
      "Data columns (total 6 columns):\n",
      " #   Column       Non-Null Count  Dtype   \n",
      "---  ------       --------------  -----   \n",
      " 0   Year         3209 non-null   int32   \n",
      " 1   Type         3209 non-null   category\n",
      " 2   Country      3209 non-null   object  \n",
      " 3   Age          3209 non-null   int64   \n",
      " 4   Fatal (Y/N)  3209 non-null   object  \n",
      " 5   Sex          3209 non-null   object  \n",
      "dtypes: category(1), int32(1), int64(1), object(3)\n",
      "memory usage: 141.2+ KB\n"
     ]
    }
   ],
   "source": [
    "df_clear[\"Sex\"] = df_clear[\"Sex \"]\n",
    "\n",
    "df_clear = df_clear.drop(\"Sex \", axis=1)\n",
    "df_clear.info()"
   ]
  },
  {
   "cell_type": "code",
   "execution_count": 71,
   "id": "bb70d43e-3019-4614-a515-8a7b330795e2",
   "metadata": {},
   "outputs": [
    {
     "name": "stdout",
     "output_type": "stream",
     "text": [
      "['M' 'F' 'M ' 'lli']\n"
     ]
    }
   ],
   "source": [
    "valores_unicos = df_clear[\"Sex\"].unique()\n",
    "print(valores_unicos)"
   ]
  },
  {
   "cell_type": "markdown",
   "id": "5d828b16-4b83-45f2-b304-21345e7ed973",
   "metadata": {},
   "source": [
    "detectamos que hay mas tipos de generos de los esperados.\n",
    "\n",
    "procedemos a reparar el genero masculino que presentra dos estados \"M\" y \"M \" "
   ]
  },
  {
   "cell_type": "code",
   "execution_count": 72,
   "id": "7e5f2b7b-d427-4baa-af7a-6b8dc60d2724",
   "metadata": {},
   "outputs": [
    {
     "name": "stdout",
     "output_type": "stream",
     "text": [
      "['M' 'F' 'lli']\n"
     ]
    }
   ],
   "source": [
    "df_clear.loc[df_clear[\"Sex\"]==\"M \", \"Sex\"]= \"M\"\n",
    "valores_unicos = df_clear[\"Sex\"].unique()\n",
    "print(valores_unicos)"
   ]
  },
  {
   "cell_type": "code",
   "execution_count": 73,
   "id": "b5c2717f-a2d1-46be-8aad-bd674bbbc506",
   "metadata": {},
   "outputs": [
    {
     "name": "stdout",
     "output_type": "stream",
     "text": [
      "1\n"
     ]
    }
   ],
   "source": [
    "cuantos_lli =(df_clear[\"Sex\"] == \"lli\").sum()\n",
    "print(cuantos_lli)"
   ]
  },
  {
   "cell_type": "markdown",
   "id": "19b38383-9589-4e14-8cdc-e0a995674b01",
   "metadata": {},
   "source": [
    "Como solo hay un lli vamos a ver si es Hombre o mujer "
   ]
  },
  {
   "cell_type": "code",
   "execution_count": 74,
   "id": "5fc5ba03-a134-4dc1-89be-062b17f86317",
   "metadata": {},
   "outputs": [
    {
     "data": {
      "text/html": [
       "<div>\n",
       "<style scoped>\n",
       "    .dataframe tbody tr th:only-of-type {\n",
       "        vertical-align: middle;\n",
       "    }\n",
       "\n",
       "    .dataframe tbody tr th {\n",
       "        vertical-align: top;\n",
       "    }\n",
       "\n",
       "    .dataframe thead th {\n",
       "        text-align: right;\n",
       "    }\n",
       "</style>\n",
       "<table border=\"1\" class=\"dataframe\">\n",
       "  <thead>\n",
       "    <tr style=\"text-align: right;\">\n",
       "      <th></th>\n",
       "      <th>Case Number</th>\n",
       "      <th>Date</th>\n",
       "      <th>Year</th>\n",
       "      <th>Type</th>\n",
       "      <th>Country</th>\n",
       "      <th>Area</th>\n",
       "      <th>Location</th>\n",
       "      <th>Activity</th>\n",
       "      <th>Name</th>\n",
       "      <th>Sex</th>\n",
       "      <th>...</th>\n",
       "      <th>Fatal (Y/N)</th>\n",
       "      <th>Time</th>\n",
       "      <th>Species</th>\n",
       "      <th>Investigator or Source</th>\n",
       "      <th>pdf</th>\n",
       "      <th>href formula</th>\n",
       "      <th>href</th>\n",
       "      <th>Case Number.1</th>\n",
       "      <th>Case Number.2</th>\n",
       "      <th>original order</th>\n",
       "    </tr>\n",
       "  </thead>\n",
       "  <tbody>\n",
       "    <tr>\n",
       "      <th>1484</th>\n",
       "      <td>2004.11.11.b</td>\n",
       "      <td>2004-11-11</td>\n",
       "      <td>2004.0</td>\n",
       "      <td>Unprovoked</td>\n",
       "      <td>USA</td>\n",
       "      <td>California</td>\n",
       "      <td>Bunkers, Humboldt Bay, Eureka, Humboldt County</td>\n",
       "      <td>Surfing</td>\n",
       "      <td>Brian Kang</td>\n",
       "      <td>lli</td>\n",
       "      <td>...</td>\n",
       "      <td>N</td>\n",
       "      <td>13h30</td>\n",
       "      <td>5.5 m [18'] white shark</td>\n",
       "      <td>R. Collier, GSAF</td>\n",
       "      <td>2004.11.11.b-Kang.pdf</td>\n",
       "      <td>http://sharkattackfile.net/spreadsheets/pdf_di...</td>\n",
       "      <td>http://sharkattackfile.net/spreadsheets/pdf_di...</td>\n",
       "      <td>2004.11.11.b</td>\n",
       "      <td>2004.11.11.b</td>\n",
       "      <td>4611.0</td>\n",
       "    </tr>\n",
       "  </tbody>\n",
       "</table>\n",
       "<p>1 rows × 22 columns</p>\n",
       "</div>"
      ],
      "text/plain": [
       "       Case Number        Date    Year        Type Country        Area  \\\n",
       "1484  2004.11.11.b  2004-11-11  2004.0  Unprovoked     USA  California   \n",
       "\n",
       "                                            Location Activity        Name  \\\n",
       "1484  Bunkers, Humboldt Bay, Eureka, Humboldt County  Surfing  Brian Kang   \n",
       "\n",
       "     Sex   ... Fatal (Y/N)   Time                 Species   \\\n",
       "1484  lli  ...           N  13h30  5.5 m [18'] white shark   \n",
       "\n",
       "                Investigator or Source                    pdf  \\\n",
       "1484  R. Collier, GSAF                  2004.11.11.b-Kang.pdf   \n",
       "\n",
       "                                           href formula  \\\n",
       "1484  http://sharkattackfile.net/spreadsheets/pdf_di...   \n",
       "\n",
       "                                                   href Case Number.1  \\\n",
       "1484  http://sharkattackfile.net/spreadsheets/pdf_di...  2004.11.11.b   \n",
       "\n",
       "     Case Number.2 original order  \n",
       "1484  2004.11.11.b         4611.0  \n",
       "\n",
       "[1 rows x 22 columns]"
      ]
     },
     "execution_count": 74,
     "metadata": {},
     "output_type": "execute_result"
    }
   ],
   "source": [
    "mis_lli = df[df[\"Sex \"]==\"lli\"]\n",
    "mis_lli"
   ]
  },
  {
   "cell_type": "markdown",
   "id": "924816cd-eca2-4826-bb87-b5b7cd64ef66",
   "metadata": {},
   "source": [
    "como podemos observar es un hombre por lo tanto se le asignará el valor \"M\""
   ]
  },
  {
   "cell_type": "code",
   "execution_count": 75,
   "id": "caa09bc0-c314-46fe-a753-6be19fbf9709",
   "metadata": {},
   "outputs": [],
   "source": [
    "df_clear.loc[df_clear[\"Sex\"]==\"lli\", \"Sex\"]= \"M\""
   ]
  },
  {
   "cell_type": "code",
   "execution_count": 76,
   "id": "fc10f61d-153f-42ea-b210-78d7a98bd121",
   "metadata": {},
   "outputs": [
    {
     "name": "stdout",
     "output_type": "stream",
     "text": [
      "['M' 'F']\n"
     ]
    }
   ],
   "source": [
    "valores_unicos = df_clear[\"Sex\"].unique()\n",
    "print(valores_unicos)"
   ]
  },
  {
   "cell_type": "markdown",
   "id": "c9be6325-d38b-49e9-915a-c4b05c9190d4",
   "metadata": {},
   "source": [
    "Cambiamos el tipo de dato de la columna Sex de objeto a categoria"
   ]
  },
  {
   "cell_type": "code",
   "execution_count": 77,
   "id": "144fc900-1d17-4300-9dbd-0306d7ba7ab5",
   "metadata": {},
   "outputs": [
    {
     "name": "stdout",
     "output_type": "stream",
     "text": [
      "<class 'pandas.core.frame.DataFrame'>\n",
      "Index: 3209 entries, 0 to 5953\n",
      "Data columns (total 6 columns):\n",
      " #   Column       Non-Null Count  Dtype   \n",
      "---  ------       --------------  -----   \n",
      " 0   Year         3209 non-null   int32   \n",
      " 1   Type         3209 non-null   category\n",
      " 2   Country      3209 non-null   object  \n",
      " 3   Age          3209 non-null   int64   \n",
      " 4   Fatal (Y/N)  3209 non-null   object  \n",
      " 5   Sex          3209 non-null   category\n",
      "dtypes: category(2), int32(1), int64(1), object(2)\n",
      "memory usage: 119.4+ KB\n"
     ]
    }
   ],
   "source": [
    "df_clear['Sex'] = df_clear['Sex'].astype('category')\n",
    "df_clear.info()"
   ]
  },
  {
   "cell_type": "code",
   "execution_count": 78,
   "id": "06191172-de40-4c8d-81a9-a9b3b5d40927",
   "metadata": {},
   "outputs": [
    {
     "name": "stdout",
     "output_type": "stream",
     "text": [
      "['N' 'Y' '2017' 'UNKNOWN' ' N']\n"
     ]
    }
   ],
   "source": [
    "valores_unicos = df_clear[\"Fatal (Y/N)\"].unique()\n",
    "print(valores_unicos)"
   ]
  },
  {
   "cell_type": "markdown",
   "id": "010d3aaf-5484-41e5-9afa-a2a643d7302c",
   "metadata": {},
   "source": [
    "cambiamos los valores de \" N\" a \"N\""
   ]
  },
  {
   "cell_type": "code",
   "execution_count": 79,
   "id": "c69f06ca-c003-4354-8b26-9b3f9eef74d1",
   "metadata": {},
   "outputs": [
    {
     "name": "stdout",
     "output_type": "stream",
     "text": [
      "['N' 'Y' '2017' 'UNKNOWN']\n"
     ]
    }
   ],
   "source": [
    "df_clear.loc[df_clear[\"Fatal (Y/N)\"]==\" N\", \"Fatal (Y/N)\"]= \"N\"\n",
    "valores_unicos = df_clear[\"Fatal (Y/N)\"].unique()\n",
    "print(valores_unicos)"
   ]
  },
  {
   "cell_type": "code",
   "execution_count": 80,
   "id": "d01b3bce-6a56-44e9-9c3d-ab3b70e03792",
   "metadata": {},
   "outputs": [
    {
     "name": "stdout",
     "output_type": "stream",
     "text": [
      "1\n",
      "9\n"
     ]
    }
   ],
   "source": [
    "cuantos_2017 =(df_clear[\"Fatal (Y/N)\"] == \"2017\").sum()\n",
    "print(cuantos_2017)\n",
    "\n",
    "cuantos_uknown =(df_clear[\"Fatal (Y/N)\"] == \"UNKNOWN\").sum()\n",
    "print(cuantos_uknown)"
   ]
  },
  {
   "cell_type": "markdown",
   "id": "10e95d54-0e5d-41cd-8a83-e8fab5009e64",
   "metadata": {},
   "source": [
    "dada la marginalidad de los datos de Unknown y 2017 decidimos elimiar dichos registros"
   ]
  },
  {
   "cell_type": "code",
   "execution_count": 81,
   "id": "b663f85b-a76b-4261-a407-3260e0b0ed6b",
   "metadata": {},
   "outputs": [],
   "source": [
    "indiceseliminar = df_clear[(df_clear[\"Fatal (Y/N)\"] == \"2017\") | (df_clear[\"Fatal (Y/N)\"] == \"UNKNOWN\")].index\n",
    "\n",
    "df_clear = df_clear.drop(indiceseliminar)\n",
    "\n"
   ]
  },
  {
   "cell_type": "code",
   "execution_count": 82,
   "id": "a19bf6ab-fd1a-4c60-a77b-c33c0a7f6736",
   "metadata": {},
   "outputs": [
    {
     "name": "stdout",
     "output_type": "stream",
     "text": [
      "['N' 'Y']\n"
     ]
    }
   ],
   "source": [
    "valores_unicos = df_clear[\"Fatal (Y/N)\"].unique()\n",
    "print(valores_unicos)"
   ]
  },
  {
   "cell_type": "markdown",
   "id": "01896e36-548c-43a7-ac76-de54293e8b11",
   "metadata": {},
   "source": [
    "Vamos a convertir la columna Fatal de objeto a Bool"
   ]
  },
  {
   "cell_type": "code",
   "execution_count": 83,
   "id": "d2874b91-25a6-491b-abfb-491e43f54665",
   "metadata": {},
   "outputs": [
    {
     "name": "stdout",
     "output_type": "stream",
     "text": [
      "<class 'pandas.core.frame.DataFrame'>\n",
      "Index: 3199 entries, 0 to 5953\n",
      "Data columns (total 6 columns):\n",
      " #   Column       Non-Null Count  Dtype   \n",
      "---  ------       --------------  -----   \n",
      " 0   Year         3199 non-null   int32   \n",
      " 1   Type         3199 non-null   category\n",
      " 2   Country      3199 non-null   object  \n",
      " 3   Age          3199 non-null   int64   \n",
      " 4   Fatal (Y/N)  3199 non-null   bool    \n",
      " 5   Sex          3199 non-null   category\n",
      "dtypes: bool(1), category(2), int32(1), int64(1), object(1)\n",
      "memory usage: 97.2+ KB\n"
     ]
    },
    {
     "name": "stderr",
     "output_type": "stream",
     "text": [
      "/tmp/ipykernel_57367/1774482131.py:1: FutureWarning: Downcasting behavior in `replace` is deprecated and will be removed in a future version. To retain the old behavior, explicitly call `result.infer_objects(copy=False)`. To opt-in to the future behavior, set `pd.set_option('future.no_silent_downcasting', True)`\n",
      "  df_clear['Fatal (Y/N)'] = df_clear['Fatal (Y/N)'].replace({\"Y\": True, \"N\": False})\n"
     ]
    }
   ],
   "source": [
    "df_clear['Fatal (Y/N)'] = df_clear['Fatal (Y/N)'].replace({\"Y\": True, \"N\": False})\n",
    "\n",
    "df_clear.info()"
   ]
  },
  {
   "cell_type": "markdown",
   "id": "95eb2d6a-6417-4c29-9d12-4d7354980459",
   "metadata": {},
   "source": [
    "Ahora vamos a comprobar si existen valores duplicados"
   ]
  },
  {
   "cell_type": "code",
   "execution_count": 84,
   "id": "fadaeee7-c4e2-452b-b3e0-a74080936bff",
   "metadata": {},
   "outputs": [
    {
     "name": "stdout",
     "output_type": "stream",
     "text": [
      "\n",
      "Number of duplicate rows: 266\n"
     ]
    }
   ],
   "source": [
    "duplicates = df_clear.duplicated().sum()\n",
    "print(f\"\\nNumber of duplicate rows: {duplicates}\")"
   ]
  },
  {
   "cell_type": "markdown",
   "id": "627fb0a8-5f96-4f9c-82c0-b262f7242d3b",
   "metadata": {},
   "source": [
    "eliminamos los duplicados y obtenemos nuestro dataframe final listo para el analisis"
   ]
  },
  {
   "cell_type": "code",
   "execution_count": 85,
   "id": "68b97213-ccde-4663-a48e-fdf511a3a227",
   "metadata": {},
   "outputs": [
    {
     "name": "stdout",
     "output_type": "stream",
     "text": [
      "\n",
      "Duplicates Removed.\n",
      "<class 'pandas.core.frame.DataFrame'>\n",
      "Index: 2933 entries, 0 to 5953\n",
      "Data columns (total 6 columns):\n",
      " #   Column       Non-Null Count  Dtype   \n",
      "---  ------       --------------  -----   \n",
      " 0   Year         2933 non-null   int32   \n",
      " 1   Type         2933 non-null   category\n",
      " 2   Country      2933 non-null   object  \n",
      " 3   Age          2933 non-null   int64   \n",
      " 4   Fatal (Y/N)  2933 non-null   bool    \n",
      " 5   Sex          2933 non-null   category\n",
      "dtypes: bool(1), category(2), int32(1), int64(1), object(1)\n",
      "memory usage: 89.1+ KB\n"
     ]
    }
   ],
   "source": [
    "\n",
    "df_finish = df_clear.drop_duplicates()\n",
    "\n",
    "print(\"\\nDuplicates Removed.\")\n",
    "df_finish.info()\n"
   ]
  },
  {
   "cell_type": "code",
   "execution_count": 88,
   "id": "31226488-93f9-47a6-bbe0-ff91da2c1357",
   "metadata": {},
   "outputs": [],
   "source": [
    "# Save with a custom delimiter and exclude index\n",
    "df_finish.to_csv('Shark_finish.csv', index=False, header=True)\n"
   ]
  },
  {
   "cell_type": "code",
   "execution_count": null,
   "id": "c10bd01f-f25a-4a51-a461-2194f9ec0a1c",
   "metadata": {},
   "outputs": [],
   "source": []
  }
 ],
 "metadata": {
  "kernelspec": {
   "display_name": "Python 3 (ipykernel)",
   "language": "python",
   "name": "python3"
  },
  "language_info": {
   "codemirror_mode": {
    "name": "ipython",
    "version": 3
   },
   "file_extension": ".py",
   "mimetype": "text/x-python",
   "name": "python",
   "nbconvert_exporter": "python",
   "pygments_lexer": "ipython3",
   "version": "3.11.10"
  }
 },
 "nbformat": 4,
 "nbformat_minor": 5
}
